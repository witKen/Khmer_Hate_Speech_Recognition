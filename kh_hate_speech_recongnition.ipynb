{
 "cells": [
  {
   "cell_type": "code",
   "execution_count": 26,
   "metadata": {},
   "outputs": [],
   "source": [
    "import pandas as pd\n",
    "import seaborn as sns\n",
    "import matplotlib.pyplot as plt\n",
    "import nltk\n",
    "import numpy as np\n",
    "\n",
    "pd.options.display.float_format = '{:.2f}'.format\n",
    "\n",
    "import warnings \n",
    "warnings.filterwarnings('ignore')"
   ]
  },
  {
   "cell_type": "code",
   "execution_count": 27,
   "metadata": {},
   "outputs": [
    {
     "data": {
      "text/html": [
       "<div>\n",
       "<style scoped>\n",
       "    .dataframe tbody tr th:only-of-type {\n",
       "        vertical-align: middle;\n",
       "    }\n",
       "\n",
       "    .dataframe tbody tr th {\n",
       "        vertical-align: top;\n",
       "    }\n",
       "\n",
       "    .dataframe thead th {\n",
       "        text-align: right;\n",
       "    }\n",
       "</style>\n",
       "<table border=\"1\" class=\"dataframe\">\n",
       "  <thead>\n",
       "    <tr style=\"text-align: right;\">\n",
       "      <th></th>\n",
       "      <th>Comments</th>\n",
       "      <th>Type</th>\n",
       "    </tr>\n",
       "  </thead>\n",
       "  <tbody>\n",
       "    <tr>\n",
       "      <th>0</th>\n",
       "      <td>វីដេអូ ពេញចឹងមកគេយល់ច្រើនហើយ អញ្ចឹងហើយគេមិនយល់...</td>\n",
       "      <td>0.00</td>\n",
       "    </tr>\n",
       "    <tr>\n",
       "      <th>1</th>\n",
       "      <td>៣៣៥៥ឆ្កែបើកឡាន</td>\n",
       "      <td>1.00</td>\n",
       "    </tr>\n",
       "    <tr>\n",
       "      <th>2</th>\n",
       "      <td>ឡានថោកហេីយចរិកអ្នកបេីកថោកទៀត GS</td>\n",
       "      <td>1.00</td>\n",
       "    </tr>\n",
       "    <tr>\n",
       "      <th>3</th>\n",
       "      <td>នេះជាខួររបស់តួចឹត្តអាក្រក</td>\n",
       "      <td>1.00</td>\n",
       "    </tr>\n",
       "    <tr>\n",
       "      <th>4</th>\n",
       "      <td>មុខពេទ្យកាល់ម៉ែត្រ</td>\n",
       "      <td>0.00</td>\n",
       "    </tr>\n",
       "    <tr>\n",
       "      <th>...</th>\n",
       "      <td>...</td>\n",
       "      <td>...</td>\n",
       "    </tr>\n",
       "    <tr>\n",
       "      <th>6312</th>\n",
       "      <td>អាឆ្កែបេីកឡានខ្មៅ</td>\n",
       "      <td>1.00</td>\n",
       "    </tr>\n",
       "    <tr>\n",
       "      <th>6313</th>\n",
       "      <td>សំណាងហេីយបងដែលខ្ញុំអត់ខមិនជេ​ ព្រោះខ្ញុំគិតថាម...</td>\n",
       "      <td>0.00</td>\n",
       "    </tr>\n",
       "    <tr>\n",
       "      <th>6314</th>\n",
       "      <td>បច់ចឹងបានគេហេីអ្នកចេះបេីកឡាន</td>\n",
       "      <td>0.00</td>\n",
       "    </tr>\n",
       "    <tr>\n",
       "      <th>6315</th>\n",
       "      <td>កោកវាឲបែក១ចំហៀងអត់</td>\n",
       "      <td>0.00</td>\n",
       "    </tr>\n",
       "    <tr>\n",
       "      <th>6316</th>\n",
       "      <td>បកស្រាយសមហេតុផលទាំងអស់ ខ្ញុំមិនដែលបេីកប៉ាភ្លេី...</td>\n",
       "      <td>1.00</td>\n",
       "    </tr>\n",
       "  </tbody>\n",
       "</table>\n",
       "<p>6317 rows × 2 columns</p>\n",
       "</div>"
      ],
      "text/plain": [
       "                                               Comments  Type\n",
       "0     វីដេអូ ពេញចឹងមកគេយល់ច្រើនហើយ អញ្ចឹងហើយគេមិនយល់...  0.00\n",
       "1                                        ៣៣៥៥ឆ្កែបើកឡាន  1.00\n",
       "2                       ឡានថោកហេីយចរិកអ្នកបេីកថោកទៀត GS  1.00\n",
       "3                             នេះជាខួររបស់តួចឹត្តអាក្រក  1.00\n",
       "4                                    មុខពេទ្យកាល់ម៉ែត្រ  0.00\n",
       "...                                                 ...   ...\n",
       "6312                                  អាឆ្កែបេីកឡានខ្មៅ  1.00\n",
       "6313  សំណាងហេីយបងដែលខ្ញុំអត់ខមិនជេ​ ព្រោះខ្ញុំគិតថាម...  0.00\n",
       "6314                       បច់ចឹងបានគេហេីអ្នកចេះបេីកឡាន  0.00\n",
       "6315                                 កោកវាឲបែក១ចំហៀងអត់  0.00\n",
       "6316  បកស្រាយសមហេតុផលទាំងអស់ ខ្ញុំមិនដែលបេីកប៉ាភ្លេី...  1.00\n",
       "\n",
       "[6317 rows x 2 columns]"
      ]
     },
     "execution_count": 27,
     "metadata": {},
     "output_type": "execute_result"
    }
   ],
   "source": [
    "# load data from csv file\n",
    "df = pd.read_csv(\"Data.csv\", sep=',')\n",
    "df"
   ]
  },
  {
   "cell_type": "code",
   "execution_count": 28,
   "metadata": {},
   "outputs": [
    {
     "name": "stdout",
     "output_type": "stream",
     "text": [
      "Missing Value:  6\n",
      "Duplicated Value:  10\n"
     ]
    }
   ],
   "source": [
    "# count missing values for each column\n",
    "print(\"Missing Value: \", sum(df.isnull().sum()))\n",
    "# count duplicatte values\n",
    "print(\"Duplicated Value: \", df.duplicated().sum())"
   ]
  },
  {
   "cell_type": "code",
   "execution_count": 29,
   "metadata": {},
   "outputs": [
    {
     "name": "stdout",
     "output_type": "stream",
     "text": [
      "Duplicated Value:  0\n",
      "Missing Values:  0\n"
     ]
    }
   ],
   "source": [
    "# Remove duplicate\n",
    "unique_records = df.drop_duplicates()\n",
    "redundant_records = df[df.duplicated()]\n",
    "df = df.drop_duplicates().dropna()\n",
    "\n",
    "print(\"Duplicated Value: \", df.duplicated().sum())\n",
    "print(\"Missing Values: \", df.isnull().sum().sum())"
   ]
  },
  {
   "cell_type": "code",
   "execution_count": 30,
   "metadata": {},
   "outputs": [
    {
     "name": "stdout",
     "output_type": "stream",
     "text": [
      "                                            Comments  Type\n",
      "0  វីដេអូ ពេញចឹងមកគេយល់ច្រើនហើយ អញ្ចឹងហើយគេមិនយល់...  0.00\n",
      "4                                 មុខពេទ្យកាល់ម៉ែត្រ  0.00\n",
      "5  ចុះលេាកមិនសម្រាយចឹងតាំងពីដេីមមក យកVDOមួយផ្នែកម...  0.00\n",
      "7  ខ្ញុំមើលរូបដូចជាមិនសូវអីទេណាស់តើអ្នកអីយាយចង់តែ...  0.00\n",
      "8         អ្នកជេរគេនិងទូលរែកយកទៅ​ អាណិតតួរអង្គឯកណាស់  0.00\n",
      "                                         Comments  Type\n",
      "1                                  ៣៣៥៥ឆ្កែបើកឡាន  1.00\n",
      "2                 ឡានថោកហេីយចរិកអ្នកបេីកថោកទៀត GS  1.00\n",
      "3                       នេះជាខួររបស់តួចឹត្តអាក្រក  1.00\n",
      "6   ញុមចង់ជេវាថាអាចុយម្រាយតែខ្លាចវាខឹងចឹងអត់ជេវិញ  1.00\n",
      "10                             ប៉ះញុមវិញឡានសួរម៉ង  1.00\n"
     ]
    }
   ],
   "source": [
    "non_hateful = df[df['Type'] == 0]\n",
    "hateful = df[df['Type'] == 1]\n",
    "\n",
    "print(non_hateful.head(5))\n",
    "print(hateful.head(5))"
   ]
  },
  {
   "cell_type": "code",
   "execution_count": 31,
   "metadata": {},
   "outputs": [
    {
     "name": "stdout",
     "output_type": "stream",
     "text": [
      "0.00    5333\n",
      "1.00     968\n",
      "Name: Type, dtype: int64\n"
     ]
    },
    {
     "data": {
      "image/png": "[encoded data removed]",
      "text/plain": [
       "<Figure size 800x800 with 1 Axes>"
      ]
     },
     "metadata": {},
     "output_type": "display_data"
    }
   ],
   "source": [
    "#write your code here \n",
    "import matplotlib.pyplot as plt\n",
    "count_cmt = df[\"Type\"].value_counts()\n",
    "types = {0: 'Non-Hateful', 1: 'Hateful'}\n",
    "print(count_cmt)\n",
    "plt.figure(figsize=(8,8))\n",
    "plt.pie(count_cmt, labels=count_cmt.index.map(types), autopct='%1.1f%%', startangle=140)\n",
    "plt.title('Percentage of Hateful Comments')\n",
    "plt.axis('equal')\n",
    "plt.show()"
   ]
  },
  {
   "cell_type": "code",
   "execution_count": 32,
   "metadata": {},
   "outputs": [
    {
     "name": "stdout",
     "output_type": "stream",
     "text": [
      "0.00    5333\n",
      "1.00    5333\n",
      "Name: Type, dtype: int64\n"
     ]
    },
    {
     "data": {
      "image/png": "[encoded data removed]",
      "text/plain": [
       "<Figure size 800x800 with 1 Axes>"
      ]
     },
     "metadata": {},
     "output_type": "display_data"
    },
    {
     "name": "stdout",
     "output_type": "stream",
     "text": [
      "                                               Comments  Type\n",
      "1                                        ៣៣៥៥ឆ្កែបើកឡាន  1.00\n",
      "2                       ឡានថោកហេីយចរិកអ្នកបេីកថោកទៀត GS  1.00\n",
      "3                             នេះជាខួររបស់តួចឹត្តអាក្រក  1.00\n",
      "6         ញុមចង់ជេវាថាអាចុយម្រាយតែខ្លាចវាខឹងចឹងអត់ជេវិញ  1.00\n",
      "10                                   ប៉ះញុមវិញឡានសួរម៉ង  1.00\n",
      "...                                                 ...   ...\n",
      "6305                                 ចុះទៅវៃក្បាលឯងអាយះ  1.00\n",
      "6306       តាមពិតទៅខ្ញុំចង់ជេរឡាននោះថាអាឆ្កែ តែខ្លាចបាប  1.00\n",
      "6308          ញុមចង់ជេរវាថាអាឆ្កួតតែខ្ញុំខ្លាចគេខឹង🙂‍↔️  1.00\n",
      "6312                                  អាឆ្កែបេីកឡានខ្មៅ  1.00\n",
      "6316  បកស្រាយសមហេតុផលទាំងអស់ ខ្ញុំមិនដែលបេីកប៉ាភ្លេី...  1.00\n",
      "\n",
      "[968 rows x 2 columns]\n"
     ]
    }
   ],
   "source": [
    "from imblearn.over_sampling import SMOTE\n",
    "from sklearn.feature_extraction.text import TfidfVectorizer\n",
    "\n",
    "vectorizer = TfidfVectorizer()\n",
    "X = vectorizer.fit_transform(df['Comments']) \n",
    "y = df['Type'] \n",
    "\n",
    "# Perform SMOTE\n",
    "smote = SMOTE(random_state=42)\n",
    "X_resampled, y_resampled = smote.fit_resample(X, y)\n",
    "\n",
    "# Create a new DataFrame with the resampled data\n",
    "df_resampled = pd.DataFrame(X_resampled.toarray())\n",
    "df_resampled['Type'] = y_resampled\n",
    "\n",
    "# Check the new distribution\n",
    "count_cmt_resampled = df_resampled[\"Type\"].value_counts()\n",
    "print(count_cmt_resampled)\n",
    "\n",
    "# Plot the new distribution\n",
    "plt.figure(figsize=(8, 8))\n",
    "types = {0: 'Non-Hateful', 1: 'Hateful'}\n",
    "plt.pie(count_cmt_resampled, labels=count_cmt_resampled.index.map(types), autopct='%1.1f%%', startangle=140)\n",
    "plt.title('Percentage of Hateful Comments After Imputation')\n",
    "plt.axis('equal')\n",
    "plt.show()\n",
    "\n",
    "hateful = df[df['Type'] == 1]\n",
    "\n",
    "print(hateful)"
   ]
  },
  {
   "cell_type": "code",
   "execution_count": 33,
   "metadata": {},
   "outputs": [
    {
     "name": "stdout",
     "output_type": "stream",
     "text": [
      "                                               Comments  Type  \\\n",
      "0     វីដេអូ ពេញចឹងមកគេយល់ច្រើនហើយ អញ្ចឹងហើយគេមិនយល់...  0.00   \n",
      "1                                        ៣៣៥៥ឆ្កែបើកឡាន  1.00   \n",
      "2                       ឡានថោកហេីយចរិកអ្នកបេីកថោកទៀត GS  1.00   \n",
      "3                             នេះជាខួររបស់តួចឹត្តអាក្រក  1.00   \n",
      "4                                    មុខពេទ្យកាល់ម៉ែត្រ  0.00   \n",
      "...                                                 ...   ...   \n",
      "6312                                  អាឆ្កែបេីកឡានខ្មៅ  1.00   \n",
      "6313  សំណាងហេីយបងដែលខ្ញុំអត់ខមិនជេ​ ព្រោះខ្ញុំគិតថាម...  0.00   \n",
      "6314                       បច់ចឹងបានគេហេីអ្នកចេះបេីកឡាន  0.00   \n",
      "6315                                 កោកវាឲបែក១ចំហៀងអត់  0.00   \n",
      "6316  បកស្រាយសមហេតុផលទាំងអស់ ខ្ញុំមិនដែលបេីកប៉ាភ្លេី...  1.00   \n",
      "\n",
      "                                            Cleaned_cmt  \n",
      "0     វីដេអូពេញចឹងមកគេយល់ច្រើនហើយអញ្ចឹងហើយគេមិនយល់ច្...  \n",
      "1                                        ៣៣៥៥ឆ្កែបើកឡាន  \n",
      "2                        ឡានថោកហេីយចរិកអ្នកបេីកថោកទៀតGS  \n",
      "3                             នេះជាខួររបស់តួចឹត្តអាក្រក  \n",
      "4                                    មុខពេទ្យកាល់ម៉ែត្រ  \n",
      "...                                                 ...  \n",
      "6312                                  អាឆ្កែបេីកឡានខ្មៅ  \n",
      "6313  សំណាងហេីយបងដែលខ្ញុំអត់ខមិនជេ​ព្រោះខ្ញុំគិតថាមិ...  \n",
      "6314                       បច់ចឹងបានគេហេីអ្នកចេះបេីកឡាន  \n",
      "6315                                 កោកវាឲបែក១ចំហៀងអត់  \n",
      "6316  បកស្រាយសមហេតុផលទាំងអស់ខ្ញុំមិនដែលបេីកប៉ាភ្លេីដ...  \n",
      "\n",
      "[6301 rows x 3 columns]\n"
     ]
    }
   ],
   "source": [
    "import re\n",
    "# Function to clean comments\n",
    "def remove_punc(cmt):\n",
    "    emoji_pattern = re.compile(\"[\"  \n",
    "                               u\"\\U0001F600-\\U0001F64F\"  # emoticons\n",
    "                               u\"\\U0001F300-\\U0001F5FF\"  # symbols & pictographs\n",
    "                               u\"\\U0001F680-\\U0001F6FF\"  # transport & map symbols\n",
    "                               u\"\\U0001F1E0-\\U0001F1FF\"  # flags (iOS)\n",
    "                               u\"\\U00002702-\\U000027B0\"\n",
    "                               u\"\\U000024C2-\\U0001F251\"\n",
    "                               \"]+\", flags=re.UNICODE)\n",
    "    pattern = re.compile(r'[^a-zA-Z0-9\\u1780-\\u17FF\\s]')\n",
    "    cleaned_text = pattern.sub(r'', cmt)\n",
    "    cleaned_text = emoji_pattern.sub(r'', cmt)\n",
    "    cleaned_text = re.sub(r'\\s+', '', cleaned_text).strip()\n",
    "    return cleaned_text\n",
    "\n",
    "df['Cleaned_cmt'] = df['Comments'].apply(remove_punc)\n",
    "\n",
    "print(df)"
   ]
  },
  {
   "cell_type": "code",
   "execution_count": 34,
   "metadata": {},
   "outputs": [],
   "source": [
    "def load_stopword(file_path):\n",
    "    with open(file_path, 'r', encoding='utf-8') as f:\n",
    "        stopwords = [line.strip() for line in f if line.strip()]\n",
    "    return stopwords\n",
    "\n",
    "def remove_stopword(cmt):\n",
    "        stopwords = load_stopword(\"Khmer_Stop_word.txt\")\n",
    "        cleaned_cmt = [word for word in cmt.split() if word.lower() not in stopwords]\n",
    "        cleaned_cmt = ' '.join(cleaned_cmt)\n",
    "        return cleaned_cmt"
   ]
  },
  {
   "cell_type": "code",
   "execution_count": 35,
   "metadata": {},
   "outputs": [
    {
     "name": "stdout",
     "output_type": "stream",
     "text": [
      "0                             វីដេអូ ចឹង យល់ យល់ ច្រឡំ ជេ\n",
      "1                                           ៣៣៥៥ ឆ្កែ ឡាន\n",
      "2                            ឡាន ថោក ចរិក បេីក ថោក ទៀត GS\n",
      "3                                  ជា ខួរ តួ ចឹត្ត អាក្រក\n",
      "4                                    មុខ ពេទ្យ កាល់ម៉ែត្រ\n",
      "                              ...                        \n",
      "6312                                អា ឆ្កែ បេីក ឡាន ខ្មៅ\n",
      "6313     សំណាង បង ខ្ញុំ អត់ ខ ជេ ខ្ញុំ គិត ថា សុខ ៗ វា ទេ\n",
      "6314                        បច់ ចឹង បាន ហេី ចេះ បេី ក ឡាន\n",
      "6315                             កោក វា ឲ បែក ១ ចំហៀង អត់\n",
      "6316    បកស្រាយ សម ហេតុផល ខ្ញុំ បេីក ប៉ាភ្លេី អា តួអង្...\n",
      "Name: Cleaned_cmt, Length: 6301, dtype: object\n"
     ]
    }
   ],
   "source": [
    "from khmernltk import sentence_tokenize\n",
    "from khmernltk import word_tokenize\n",
    "import json\n",
    "\n",
    "def load_merge_map(file_path):\n",
    "    with open(file_path, 'r', encoding='utf-8') as file:\n",
    "        return json.load(file)\n",
    "\n",
    "def merge_word(cmt):\n",
    "    # Replace each phrase in the comment\n",
    "    merge_map = load_merge_map(\"merge_map.json\")\n",
    "    for phrase, merged in merge_map.items():\n",
    "        # Normalize spaces in the phrase and replace with generic whitespace match\n",
    "        escaped_phrase = re.escape(phrase).replace(r'\\ ', r'\\s+')\n",
    "        # Remove \\b for Unicode compatibility\n",
    "        regex_pattern = rf'(?<!\\S){escaped_phrase}(?!\\S)'\n",
    "        cmt = re.sub(regex_pattern, merged, cmt)\n",
    "    return cmt\n",
    "\n",
    "def tokenize(cmt):\n",
    "    words = word_tokenize(cmt, return_tokens=True)\n",
    "    sentence = ' '.join(word for word in words if word.strip())\n",
    "    sentence = merge_word(sentence)\n",
    "    sentence = remove_stopword(sentence)\n",
    "    return sentence\n",
    "\n",
    "df['Cleaned_cmt'] = df['Cleaned_cmt'].apply(tokenize)\n",
    "print(df['Cleaned_cmt'])"
   ]
  },
  {
   "cell_type": "code",
   "execution_count": 36,
   "metadata": {},
   "outputs": [
    {
     "name": "stdout",
     "output_type": "stream",
     "text": [
      "\n",
      "Unigrams:\n",
      "0                      [វីដេអូ, ចឹង, យល់, យល់, ច្រឡំ, ជេ]\n",
      "1                                       [៣៣៥៥, ឆ្កែ, ឡាន]\n",
      "2                  [ឡាន, ថោក, ចរិក, បេី, ក, ថោក, ទៀត, GS]\n",
      "3                            [ជា, ខួរ, តួ, ចឹត្ត, អាក្រក]\n",
      "4                                [មុខ, ពេទ្យ, កាល់ម៉ែត្រ]\n",
      "                              ...                        \n",
      "6312                          [អា, ឆ្កែ, បេីក, ឡាន, ខ្មៅ]\n",
      "6313    [សំណាង, បង, ខ្ញុំ, អត់, ខ, ជេ, ខ្ញុំ, គិត, ថា,...\n",
      "6314                 [បច់, ចឹង, បាន, ហេី, ចេះ, បេីក, ឡាន]\n",
      "6315                     [កោក, វា, ឲ, បែក, ១, ចំហៀង, អត់]\n",
      "6316    [បកស្រាយ, សម, ហេតុផល, ខ្ញុំ, បេីក, ប៉ាភ្លេី, អ...\n",
      "Name: unigrams, Length: 6301, dtype: object\n",
      "\n",
      "Bigrams:\n",
      "0       [(វីដេអូ, ចឹង), (ចឹង, យល់), (យល់, យល់), (យល់, ...\n",
      "1                             [(៣៣៥៥, ឆ្កែ), (ឆ្កែ, ឡាន)]\n",
      "2       [(ឡាន, ថោក), (ថោក, ចរិក), (ចរិក, បេី), (បេី, ក...\n",
      "3       [(ជា, ខួរ), (ខួរ, តួ), (តួ, ចឹត្ត), (ចឹត្ត, អា...\n",
      "4                     [(មុខ, ពេទ្យ), (ពេទ្យ, កាល់ម៉ែត្រ)]\n",
      "                              ...                        \n",
      "6312    [(អា, ឆ្កែ), (ឆ្កែ, បេីក), (បេីក, ឡាន), (ឡាន, ...\n",
      "6313    [(សំណាង, បង), (បង, ខ្ញុំ), (ខ្ញុំ, អត់), (អត់,...\n",
      "6314    [(បច់, ចឹង), (ចឹង, បាន), (បាន, ហេី), (ហេី, ចេះ...\n",
      "6315    [(កោក, វា), (វា, ឲ), (ឲ, បែក), (បែក, ១), (១, ច...\n",
      "6316    [(បកស្រាយ, សម), (សម, ហេតុផល), (ហេតុផល, ខ្ញុំ),...\n",
      "Name: bigrams, Length: 6301, dtype: object\n"
     ]
    }
   ],
   "source": [
    "def generate_unigram(cmt):\n",
    "    cmt = remove_punc(cmt)\n",
    "    cmt = merge_word(cmt)\n",
    "    words = word_tokenize(cmt, return_tokens=True)\n",
    "    words = [word for word in words if word.strip()]\n",
    "    return words\n",
    "\n",
    "def generate_bigrams(words, n):\n",
    "    return list(nltk.ngrams(words, n))\n",
    "\n",
    "df['unigrams'] = df['Cleaned_cmt'].apply(generate_unigram)\n",
    "df['bigrams'] = df['unigrams'].apply(lambda x: generate_bigrams(x, 2))\n",
    "\n",
    "print(\"\\nUnigrams:\")\n",
    "print(df['unigrams'])\n",
    "print(\"\\nBigrams:\")\n",
    "print(df['bigrams'])"
   ]
  },
  {
   "cell_type": "code",
   "execution_count": 37,
   "metadata": {},
   "outputs": [
    {
     "name": "stdout",
     "output_type": "stream",
     "text": [
      "Most common Unigrams in Hate Speech:\n",
      "ទេ: 141\n",
      "វា: 121\n",
      "អា: 102\n",
      "ពួក: 102\n",
      "អត់: 94\n",
      "មាន: 87\n",
      "ៗ: 81\n",
      "បាន: 81\n",
      "ឆ្កែ: 80\n",
      "ឡាន: 77\n",
      "\n",
      "Most common Unigrams in Non-Hate Speech:\n",
      "ទេ: 1014\n",
      "មាន: 933\n",
      "អត់: 814\n",
      "បាន: 735\n",
      "ខ្ញុំ: 722\n",
      "ក៏: 582\n",
      "លុយ: 552\n",
      "ដែរ: 546\n",
      "ថា: 511\n",
      "មើល: 501\n",
      "\n",
      "Most common Bigrams in Hate Speech:\n",
      "('ពួក', 'អា'): 50\n",
      "('អា', 'ឆ្កែ'): 15\n",
      "('ចុយ', 'ម្រាយ'): 13\n",
      "('អា', 'ថោក'): 11\n",
      "('អាច', 'ម៌'): 11\n",
      "('ស្រុក', 'ខ្មែរ'): 10\n",
      "('អាចុយ', 'ម្រាយ'): 9\n",
      "('មាន', 'ឡាន'): 9\n",
      "('ឡប់', 'ៗ'): 9\n",
      "('វា', 'ថា'): 9\n",
      "\n",
      "Most common Bigrams in Non-Hate Speech:\n",
      "('អត់', 'មាន'): 120\n",
      "('ស្រុក', 'ខ្មែរ'): 83\n",
      "('មាន', 'លុយ'): 82\n",
      "('ក៏', 'មាន'): 60\n",
      "('ទេ', '។'): 54\n",
      "('?', '?'): 54\n",
      "('ក៏', 'បាន'): 53\n",
      "('ខ្ញុំ', 'ក៏'): 50\n",
      "('លុយ', 'ក្រៅ'): 44\n",
      "('កង់', 'បី'): 44\n"
     ]
    }
   ],
   "source": [
    "from nltk.probability import FreqDist\n",
    "\n",
    "# Initialize frequency distributions\n",
    "fdist = FreqDist()\n",
    "\n",
    "# Separate unigrams and bigrams for hate speech and non-hate speech\n",
    "hate_speech_unigrams = []\n",
    "non_hate_speech_unigrams = []\n",
    "hate_speech_bigrams = []\n",
    "non_hate_speech_bigrams = []\n",
    "\n",
    "all_unigrams = [word for tokens in df['unigrams'] for word in tokens]\n",
    "all_bigrams = [bigram for bigrams in df['bigrams'] for bigram in bigrams]\n",
    "unigram_freq = FreqDist(all_unigrams)\n",
    "bigram_freq = FreqDist(all_bigrams)\n",
    "\n",
    "# Iterate through the DataFrame and collect unigrams and bigrams\n",
    "for index, row in df.iterrows():\n",
    "    if row['Type'] == 1:  # Assuming 1 indicates hate speech\n",
    "        hate_speech_unigrams.extend(row['unigrams'])\n",
    "        hate_speech_bigrams.extend(row['bigrams'])\n",
    "    else:  # Assuming 0 indicates non-hate speech\n",
    "        non_hate_speech_unigrams.extend(row['unigrams'])\n",
    "        non_hate_speech_bigrams.extend(row['bigrams'])\n",
    "\n",
    "# Calculate frequency distributions\n",
    "hate_unigram_freq = FreqDist(hate_speech_unigrams)\n",
    "non_hate_unigram_freq = FreqDist(non_hate_speech_unigrams)\n",
    "hate_bigram_freq = FreqDist(hate_speech_bigrams)\n",
    "non_hate_bigram_freq = FreqDist(non_hate_speech_bigrams)\n",
    "\n",
    "# Print most common unigrams\n",
    "print(\"Most common Unigrams in Hate Speech:\")\n",
    "for word, freq in hate_unigram_freq.most_common(10):\n",
    "    print(f\"{word}: {freq}\")\n",
    "\n",
    "print(\"\\nMost common Unigrams in Non-Hate Speech:\")\n",
    "for word, freq in non_hate_unigram_freq.most_common(10):\n",
    "    print(f\"{word}: {freq}\")\n",
    "\n",
    "# Print most common bigrams\n",
    "print(\"\\nMost common Bigrams in Hate Speech:\")\n",
    "for bigram, freq in hate_bigram_freq.most_common(10):\n",
    "    print(f\"{bigram}: {freq}\")\n",
    "\n",
    "print(\"\\nMost common Bigrams in Non-Hate Speech:\")\n",
    "for bigram, freq in non_hate_bigram_freq.most_common(10):\n",
    "    print(f\"{bigram}: {freq}\")"
   ]
  },
  {
   "cell_type": "code",
   "execution_count": 38,
   "metadata": {},
   "outputs": [],
   "source": [
    "from sklearn.model_selection import train_test_split\n",
    "from sklearn.feature_extraction.text import CountVectorizer\n",
    "from sklearn.naive_bayes import MultinomialNB\n",
    "from sklearn.metrics import classification_report, accuracy_score\n",
    "from collections import Counter\n",
    "from sklearn.naive_bayes import BernoulliNB"
   ]
  },
  {
   "cell_type": "code",
   "execution_count": 39,
   "metadata": {},
   "outputs": [],
   "source": [
    "def estimate_next_word_probability(word, previous_word, unigram_counts, bigram_counts):\n",
    "    bigram = (previous_word, word)\n",
    "\n",
    "    previous_word_count = unigram_counts.get(previous_word, 0)\n",
    "    bigram_count = bigram_counts.get(bigram, 0)\n",
    "\n",
    "    if previous_word_count == 0:\n",
    "        return 0.0\n",
    "    \n",
    "    probability =  bigram_count / previous_word_count\n",
    "\n",
    "    return probability\n"
   ]
  },
  {
   "cell_type": "code",
   "execution_count": 40,
   "metadata": {},
   "outputs": [],
   "source": [
    "\n",
    "def predict_next_words(previous_word, unigram_counts, bigram_counts, top_n=5):\n",
    "    predictions = []\n",
    "\n",
    "    for word in unigram_counts.keys():\n",
    "        probability = estimate_next_word_probability(word, previous_word, unigram_counts, bigram_counts)\n",
    "\n",
    "        predictions.append((word, probability))\n",
    "\n",
    "    predictions.sort(key=lambda x: x[1], reverse=True)\n",
    "\n",
    "    return predictions[:top_n]"
   ]
  },
  {
   "cell_type": "code",
   "execution_count": 41,
   "metadata": {},
   "outputs": [
    {
     "name": "stdout",
     "output_type": "stream",
     "text": [
      "MNB Reports:\n",
      "Accuracy: 0.9022842639593909\n",
      "Classification Report:\n",
      "               precision    recall  f1-score   support\n",
      "\n",
      "         0.0       0.91      0.99      0.94      1338\n",
      "         1.0       0.84      0.43      0.57       238\n",
      "\n",
      "    accuracy                           0.90      1576\n",
      "   macro avg       0.88      0.71      0.76      1576\n",
      "weighted avg       0.90      0.90      0.89      1576\n",
      "\n",
      "--------------------------------------------------------------------------\n",
      "BNB Reports:\n",
      "Accuracy: 0.866751269035533\n",
      "Classification Report:\n",
      "               precision    recall  f1-score   support\n",
      "\n",
      "         0.0       0.87      1.00      0.93      1338\n",
      "         1.0       0.87      0.14      0.24       238\n",
      "\n",
      "    accuracy                           0.87      1576\n",
      "   macro avg       0.87      0.57      0.58      1576\n",
      "weighted avg       0.87      0.87      0.82      1576\n",
      "\n"
     ]
    }
   ],
   "source": [
    "# Split data into train and test sets\n",
    "X_train, X_test, y_train, y_test = train_test_split(\n",
    "    df['Cleaned_cmt'], df['Type'], test_size=0.25, random_state=42\n",
    ")\n",
    "\n",
    "# Vectorize the text using CountVectorizer\n",
    "vectorizer = CountVectorizer(\n",
    "    analyzer='word', token_pattern=r'\\S+'\n",
    ")\n",
    "\n",
    "X_train_vec = vectorizer.fit_transform(X_train)\n",
    "X_test_vec = vectorizer.transform(X_test)\n",
    "\n",
    "# Train a Naive Bayes classifier\n",
    "MNB = MultinomialNB()\n",
    "MNB.fit(X_train_vec, y_train)\n",
    "\n",
    "BNB = BernoulliNB()\n",
    "BNB.fit(X_train_vec, y_train)\n",
    "\n",
    "# Make predictions\n",
    "y_pred = MNB.predict(X_test_vec)\n",
    "y_pred_BNB = BNB.predict(X_test_vec)\n",
    "\n",
    "# Evaluate the model\n",
    "print(\"MNB Reports:\")\n",
    "print(\"Accuracy:\", accuracy_score(y_test, y_pred))\n",
    "print(\"Classification Report:\\n\", classification_report(y_test, y_pred))\n",
    "print(\"--------------------------------------------------------------------------\")\n",
    "print(\"BNB Reports:\")\n",
    "print(\"Accuracy:\", accuracy_score(y_test, y_pred_BNB))\n",
    "print(\"Classification Report:\\n\", classification_report(y_test, y_pred_BNB))\n"
   ]
  },
  {
   "cell_type": "code",
   "execution_count": 42,
   "metadata": {},
   "outputs": [
    {
     "name": "stdout",
     "output_type": "stream",
     "text": [
      "Inputed Comment:  អាបាកាច់\n",
      "Current word:  អាបាកាច់\n",
      "Previous word:  None\n",
      "Probability:  0.0\n",
      "Word: យក, Probability: 0.5\n",
      "Word: _________., Probability: 0.25\n",
      "Word: វីដេអូ, Probability: 0.0\n",
      "Word: ចឹង, Probability: 0.0\n",
      "Word: យល់, Probability: 0.0\n",
      "MNB Prediction:  Hate Speech\n",
      "BNB Prediction:  Hate Speech\n"
     ]
    }
   ],
   "source": [
    "# Predict hate speech for new Khmer text\n",
    "def predict_hate_speech_khmer(cmt):\n",
    "    print(\"Inputed Comment: \", cmt)\n",
    "    unigram = generate_unigram(cmt)\n",
    "\n",
    "    cmt = remove_punc(cmt)\n",
    "    cmt = tokenize(cmt)   \n",
    "    comment_vec = vectorizer.transform([cmt])\n",
    "\n",
    "    MNBPredict = MNB.predict(comment_vec)\n",
    "    BNBPredict = BNB.predict(comment_vec)\n",
    "    \n",
    "    word = ''\n",
    "    previous_word = ''\n",
    "\n",
    "    if len(unigram) > 0:\n",
    "        word = unigram[len(unigram) - 1]                     # Last word\n",
    "        previous_word = unigram[len(unigram) -2] if len(unigram) > 1 else None  # Previous word\n",
    "    else:\n",
    "        word = None\n",
    "        previous_word = None\n",
    "\n",
    "    print(\"Current word: \",word)\n",
    "    print(\"Previous word: \",previous_word)\n",
    "    probability = estimate_next_word_probability(word, previous_word, unigram_counts, bigram_counts)\n",
    "    print(\"Probability: \",probability)\n",
    "\n",
    "    top_predictions = predict_next_words(word, unigram_freq, bigram_freq, top_n=5)\n",
    "    for word, probability in top_predictions:\n",
    "        print(f\"Word: {word}, Probability: {probability}\")\n",
    "\n",
    "    return \"Hate Speech\" if MNBPredict[0] == 1 else \"Non-Hate Speech\", \"Hate Speech\" if BNBPredict[0] == 1 else \"Non-Hate Speech\"\n",
    "\n",
    "unigram_counts = Counter([word for unigrams in df['unigrams'] for word in unigrams])\n",
    "bigram_counts = Counter([bigram for bigrams in df['bigrams'] for bigram in bigrams])\n",
    "new_comment = \"អាបាកាច់\"\n",
    "\n",
    "mnb, bnb = predict_hate_speech_khmer(new_comment)\n",
    "print(\"MNB Prediction: \", mnb)\n",
    "print(\"BNB Prediction: \", mnb)"
   ]
  }
 ],
 "metadata": {
  "kernelspec": {
   "display_name": "myenv",
   "language": "python",
   "name": "python3"
  },
  "language_info": {
   "codemirror_mode": {
    "name": "ipython",
    "version": 3
   },
   "file_extension": ".py",
   "mimetype": "text/x-python",
   "name": "python",
   "nbconvert_exporter": "python",
   "pygments_lexer": "ipython3",
   "version": "3.7.12"
  }
 },
 "nbformat": 4,
 "nbformat_minor": 2
}
